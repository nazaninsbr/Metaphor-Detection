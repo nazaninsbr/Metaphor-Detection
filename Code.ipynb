{
  "nbformat": 4,
  "nbformat_minor": 0,
  "metadata": {
    "colab": {
      "name": "BertNoPrep.ipynb",
      "provenance": [],
      "collapsed_sections": [],
      "machine_shape": "hm"
    },
    "kernelspec": {
      "name": "python3",
      "display_name": "Python 3"
    },
    "accelerator": "GPU"
  },
  "cells": [
    {
      "cell_type": "markdown",
      "metadata": {
        "id": "8JL4OAlSip-W",
        "colab_type": "text"
      },
      "source": [
        "# Connect to drive & import libraries"
      ]
    },
    {
      "cell_type": "code",
      "metadata": {
        "id": "caEGNDMzfRAh",
        "colab_type": "code",
        "colab": {
          "base_uri": "https://localhost:8080/",
          "height": 54
        },
        "outputId": "426f6971-6162-4865-8649-08fc60b6d242"
      },
      "source": [
        "from google.colab import drive\n",
        "drive.mount('drive')"
      ],
      "execution_count": null,
      "outputs": [
        {
          "output_type": "stream",
          "text": [
            "Drive already mounted at drive; to attempt to forcibly remount, call drive.mount(\"drive\", force_remount=True).\n"
          ],
          "name": "stdout"
        }
      ]
    },
    {
      "cell_type": "code",
      "metadata": {
        "id": "tEzV-luAJRsZ",
        "colab_type": "code",
        "colab": {}
      },
      "source": [
        "%tensorflow_version 2.x"
      ],
      "execution_count": null,
      "outputs": []
    },
    {
      "cell_type": "code",
      "metadata": {
        "id": "iuOEBW9Liwfv",
        "colab_type": "code",
        "colab": {}
      },
      "source": [
        "from sklearn.model_selection import train_test_split\n",
        "import pandas as pd\n",
        "import tensorflow as tf\n",
        "import os\n",
        "from keras.engine import Layer\n",
        "import matplotlib.pyplot as plt\n",
        "import keras\n",
        "import numpy as np\n",
        "import nltk\n",
        "import tqdm\n",
        "import tensorflow_hub as hub\n",
        "import string\n",
        "from keras import backend as K"
      ],
      "execution_count": null,
      "outputs": []
    },
    {
      "cell_type": "code",
      "metadata": {
        "id": "BGuIwsXXJekG",
        "colab_type": "code",
        "colab": {
          "base_uri": "https://localhost:8080/",
          "height": 37
        },
        "outputId": "f2913553-572b-440c-b831-97f9920d1b33"
      },
      "source": [
        "tf.__version__"
      ],
      "execution_count": null,
      "outputs": [
        {
          "output_type": "execute_result",
          "data": {
            "application/vnd.google.colaboratory.intrinsic+json": {
              "type": "string"
            },
            "text/plain": [
              "'2.3.0'"
            ]
          },
          "metadata": {
            "tags": []
          },
          "execution_count": 16
        }
      ]
    },
    {
      "cell_type": "code",
      "metadata": {
        "id": "ps76V6J_edIs",
        "colab_type": "code",
        "colab": {}
      },
      "source": [
        "from sklearn.metrics import accuracy_score\n",
        "from sklearn.metrics import classification_report\n",
        "from sklearn.metrics import precision_score\n",
        "from sklearn.metrics import recall_score\n",
        "from sklearn.metrics import f1_score\n",
        "from sklearn import metrics"
      ],
      "execution_count": null,
      "outputs": []
    },
    {
      "cell_type": "code",
      "metadata": {
        "id": "VNTXCjhyQFp7",
        "colab_type": "code",
        "colab": {
          "base_uri": "https://localhost:8080/",
          "height": 34
        },
        "outputId": "54a87485-7c91-4c07-f81d-a344baaebc44"
      },
      "source": [
        "device_name = tf.test.gpu_device_name()\n",
        "if device_name != '/device:GPU:0':\n",
        "  raise SystemError('GPU device not found')\n",
        "print('Found GPU at: {}'.format(device_name))"
      ],
      "execution_count": null,
      "outputs": [
        {
          "output_type": "stream",
          "text": [
            "Found GPU at: /device:GPU:0\n"
          ],
          "name": "stdout"
        }
      ]
    },
    {
      "cell_type": "code",
      "metadata": {
        "id": "1sQU4wuWtkaf",
        "colab_type": "code",
        "colab": {
          "base_uri": "https://localhost:8080/",
          "height": 102
        },
        "outputId": "163f881b-9457-4077-fa9e-904e1ddca09d"
      },
      "source": [
        "nltk.download('stopwords')\n",
        "nltk.download('punkt')"
      ],
      "execution_count": null,
      "outputs": [
        {
          "output_type": "stream",
          "text": [
            "[nltk_data] Downloading package stopwords to /root/nltk_data...\n",
            "[nltk_data]   Package stopwords is already up-to-date!\n",
            "[nltk_data] Downloading package punkt to /root/nltk_data...\n",
            "[nltk_data]   Package punkt is already up-to-date!\n"
          ],
          "name": "stdout"
        },
        {
          "output_type": "execute_result",
          "data": {
            "text/plain": [
              "True"
            ]
          },
          "metadata": {
            "tags": []
          },
          "execution_count": 19
        }
      ]
    },
    {
      "cell_type": "code",
      "metadata": {
        "id": "pqHDaPXXop-k",
        "colab_type": "code",
        "colab": {
          "base_uri": "https://localhost:8080/",
          "height": 151
        },
        "outputId": "5854328d-a7a7-4f7b-f4bd-0b66b6021d30"
      },
      "source": [
        "!pip install bert-for-tf2"
      ],
      "execution_count": null,
      "outputs": [
        {
          "output_type": "stream",
          "text": [
            "Requirement already satisfied: bert-for-tf2 in /usr/local/lib/python3.6/dist-packages (0.14.5)\n",
            "Requirement already satisfied: params-flow>=0.8.0 in /usr/local/lib/python3.6/dist-packages (from bert-for-tf2) (0.8.2)\n",
            "Requirement already satisfied: py-params>=0.9.6 in /usr/local/lib/python3.6/dist-packages (from bert-for-tf2) (0.9.7)\n",
            "Requirement already satisfied: numpy in /usr/local/lib/python3.6/dist-packages (from params-flow>=0.8.0->bert-for-tf2) (1.18.5)\n",
            "Requirement already satisfied: tqdm in /usr/local/lib/python3.6/dist-packages (from params-flow>=0.8.0->bert-for-tf2) (4.41.1)\n"
          ],
          "name": "stdout"
        }
      ]
    },
    {
      "cell_type": "code",
      "metadata": {
        "id": "vybgl8VvoqOG",
        "colab_type": "code",
        "colab": {}
      },
      "source": [
        "import bert"
      ],
      "execution_count": null,
      "outputs": []
    },
    {
      "cell_type": "markdown",
      "metadata": {
        "id": "4b2ADngPjIZo",
        "colab_type": "text"
      },
      "source": [
        "# Constants"
      ]
    },
    {
      "cell_type": "code",
      "metadata": {
        "id": "zxO3Fs12ivVm",
        "colab_type": "code",
        "colab": {}
      },
      "source": [
        "# data parameters\n",
        "test_data_percentage = 0.2\n",
        "# model parameters\n",
        "learning_rate = 0.0002\n",
        "batch_size = 32\n",
        "max_sequence_length = 128\n",
        "number_of_epochs = [1, 10]\n",
        "# model links\n",
        "bert_model_hub_link = 'https://tfhub.dev/tensorflow/bert_en_uncased_L-12_H-768_A-12/1'\n",
        "elmo_model_hub_link = 'https://tfhub.dev/google/elmo/3'"
      ],
      "execution_count": null,
      "outputs": []
    },
    {
      "cell_type": "markdown",
      "metadata": {
        "id": "8NwVmAJGi0vh",
        "colab_type": "text"
      },
      "source": [
        "# Reading & Pre-processing the data"
      ]
    },
    {
      "cell_type": "code",
      "metadata": {
        "id": "fI056jLjj0oU",
        "colab_type": "code",
        "colab": {
          "base_uri": "https://localhost:8080/",
          "height": 134
        },
        "outputId": "054ecd87-561f-4f70-a93c-1683d44f6ca6"
      },
      "source": [
        "metaphor_sentences, literal_sentences = [], []\n",
        "\n",
        "metaphor_words = []\n",
        "\n",
        "import pandas as pd\n",
        "\n",
        "file_1_df = pd.read_csv('drive/My Drive/Metaphor Detection/Data-metaphoric-or-literal.txt', sep='\\t')\n",
        "file_1_df.head(3)\n",
        "\n",
        "file_1_df['sentence'] = [str(x).replace('</b>', '').replace('<b>', '') for x in file_1_df['sentence'].values]\n",
        "file_1_df.head()\n",
        "\n",
        "with open('drive/My Drive/Metaphor Detection/TroFi/metaphorical.txt', 'r') as fp:\n",
        "  lines = fp.read().split('./.\\n')\n",
        "print(lines[0:2])\n",
        "\n",
        "metaphor_sentences.extend(lines)\n",
        "\n",
        "metaphor_sentences.extend(file_1_df[file_1_df['class']=='metaphorical'].sentence.values.tolist())\n",
        "\n",
        "with open('drive/My Drive/Metaphor Detection/TroFi/literal.txt', 'r') as fp:\n",
        "  lines = fp.read().split('./.\\n')\n",
        "print(lines[1])\n",
        "\n",
        "literal_sentences.extend(lines)\n",
        "\n",
        "literal_sentences.extend(file_1_df[file_1_df['class']=='literal'].sentence.values.tolist())\n",
        "\n",
        "X = literal_sentences + metaphor_sentences\n",
        "y = [0]*len(literal_sentences)+[1]*len(metaphor_sentences)\n",
        "print(len(X), len(y))"
      ],
      "execution_count": null,
      "outputs": [
        {
          "output_type": "stream",
          "text": [
            "[\"But in the short-term it will absorb a lot of top management 's energy and attention , '' says Philippe Haspeslagh , a business professor at the European management school , Insead , in Paris \", 'Shocks from one-time changes in the terms of trade should be absorbed by adjustments in exchange-rate terms -- not price levels ']\n",
            "The yellow beta carotene pigment absorbs blue -LRB- not yellow -RRB- laser light \n",
            "5033 5033\n"
          ],
          "name": "stdout"
        }
      ]
    },
    {
      "cell_type": "code",
      "metadata": {
        "id": "_spPPJ7oj05q",
        "colab_type": "code",
        "colab": {}
      },
      "source": [
        "all_Y = y\n",
        "all_X = X"
      ],
      "execution_count": null,
      "outputs": []
    },
    {
      "cell_type": "markdown",
      "metadata": {
        "id": "RQ_r5tFLnH7O",
        "colab_type": "text"
      },
      "source": [
        "## Create bert tokenizer"
      ]
    },
    {
      "cell_type": "code",
      "metadata": {
        "id": "VO_FMTtnnMCY",
        "colab_type": "code",
        "colab": {}
      },
      "source": [
        "bert_layer = hub.KerasLayer(bert_model_hub_link)\n",
        "vocab_file = bert_layer.resolved_object.vocab_file.asset_path.numpy()\n",
        "do_lower_case = bert_layer.resolved_object.do_lower_case.numpy()\n",
        "bert_tokenizer_instance = bert.bert_tokenization.FullTokenizer(vocab_file=vocab_file, do_lower_case=do_lower_case)"
      ],
      "execution_count": null,
      "outputs": []
    },
    {
      "cell_type": "markdown",
      "metadata": {
        "id": "kYuXzRGY1DpG",
        "colab_type": "text"
      },
      "source": [
        "### Bert functions for mask and id and segment id"
      ]
    },
    {
      "cell_type": "code",
      "metadata": {
        "id": "W-UjqYR71I5I",
        "colab_type": "code",
        "colab": {}
      },
      "source": [
        "def convert_text_to_number_and_fix_length(this_x, tokenizer_mod):\n",
        "  this_x_ids = tokenizer_mod.convert_tokens_to_ids(this_x,)\n",
        "  if len(this_x_ids) >= max_sequence_length:\n",
        "    this_x_fix_len = this_x_ids[:max_sequence_length]\n",
        "  else:\n",
        "    this_x_fix_len = this_x_ids + [0]*(max_sequence_length - len(this_x_ids)) \n",
        "  return this_x_fix_len\n",
        "\n",
        "def create_mask_for_input(this_x):\n",
        "  if len(this_x) >= max_sequence_length:\n",
        "    this_x_masks = [1]*max_sequence_length\n",
        "  else:\n",
        "    this_x_masks = [1]*len(this_x) + [0] * (max_sequence_length - len(this_x))\n",
        "  return this_x_masks\n",
        "\n",
        "def create_req_bert_inputs(all_X, tokenizer_mod):\n",
        "  X_input_ids, X_input_masks, X_segment_ids = [], [], []\n",
        "\n",
        "  for this_x in tqdm.tqdm(all_X, position=0, leave=True):\n",
        "    X_input_ids.append(convert_text_to_number_and_fix_length(this_x, tokenizer_mod))\n",
        "    X_input_masks.append(create_mask_for_input(this_x))\n",
        "    X_segment_ids.append([0 for _ in range(max_sequence_length)])\n",
        "\n",
        "  return X_input_ids, X_input_masks, X_segment_ids"
      ],
      "execution_count": null,
      "outputs": []
    },
    {
      "cell_type": "markdown",
      "metadata": {
        "id": "-8T7Dfndvf0Z",
        "colab_type": "text"
      },
      "source": [
        "## Clean and tokenize "
      ]
    },
    {
      "cell_type": "code",
      "metadata": {
        "id": "Ruj1PKWZj005",
        "colab_type": "code",
        "colab": {}
      },
      "source": [
        "def clean_text(all_X, tokenizer_mod=None):\n",
        "  nltk_eng_stopwords = nltk.corpus.stopwords.words('english')\n",
        "  converted_X = []\n",
        "  for this_x in all_X:\n",
        "    this_x_tokenized = tokenizer_mod.tokenize(this_x)\n",
        "    converted_X.append(this_x_tokenized)\n",
        "  return converted_X\n",
        "\n",
        "def convert_y_to_0_and_1(all_Y):\n",
        "  label_number_mapping = {0: [1, 0], 1: [0, 1]}\n",
        "  converted_y = [label_number_mapping[val] for val in all_Y]\n",
        "  return converted_y"
      ],
      "execution_count": null,
      "outputs": []
    },
    {
      "cell_type": "code",
      "metadata": {
        "id": "Uqp90zJbtdG7",
        "colab_type": "code",
        "colab": {}
      },
      "source": [
        "all_X_cleaned_using_bert = clean_text(all_X, bert_tokenizer_instance)"
      ],
      "execution_count": null,
      "outputs": []
    },
    {
      "cell_type": "code",
      "metadata": {
        "id": "77rTdgAdvnaU",
        "colab_type": "code",
        "colab": {}
      },
      "source": [
        "all_y_converted = convert_y_to_0_and_1(all_Y)"
      ],
      "execution_count": null,
      "outputs": []
    },
    {
      "cell_type": "markdown",
      "metadata": {
        "id": "HgQX9l3xxzUX",
        "colab_type": "text"
      },
      "source": [
        "### Testing BERT results"
      ]
    },
    {
      "cell_type": "code",
      "metadata": {
        "id": "eMAxUp7Cthrz",
        "colab_type": "code",
        "colab": {
          "base_uri": "https://localhost:8080/",
          "height": 111
        },
        "outputId": "dc7057f7-6ad4-457c-d133-dd4c28a23e1c"
      },
      "source": [
        "print('X[0] => before: {} and after: {}'.format(all_X[0], all_X_cleaned_using_bert[0]))\n",
        "print('Y[0] => before: {} and after: {}'.format(all_Y[0], all_y_converted[0]))"
      ],
      "execution_count": null,
      "outputs": [
        {
          "output_type": "stream",
          "text": [
            "X[0] => before: An Energy Department spokesman says the sulfur dioxide might be simultaneously recoverable through the use of powdered limestone , which tends to absorb the sulfur  and after: ['an', 'energy', 'department', 'spokesman', 'says', 'the', 'sulfur', 'dioxide', 'might', 'be', 'simultaneously', 'recover', '##able', 'through', 'the', 'use', 'of', 'powder', '##ed', 'limestone', ',', 'which', 'tends', 'to', 'absorb', 'the', 'sulfur']\n",
            "Y[0] => before: 0 and after: [1, 0]\n"
          ],
          "name": "stdout"
        }
      ]
    },
    {
      "cell_type": "markdown",
      "metadata": {
        "id": "Z8BQlRI2zL2j",
        "colab_type": "text"
      },
      "source": [
        "## Test Train split"
      ]
    },
    {
      "cell_type": "code",
      "metadata": {
        "id": "sk2kYytNzLdn",
        "colab_type": "code",
        "colab": {}
      },
      "source": [
        "X_train, X_test, y_train, y_test = train_test_split(all_X_cleaned_using_bert, all_y_converted, test_size=test_data_percentage, random_state=42)"
      ],
      "execution_count": null,
      "outputs": []
    },
    {
      "cell_type": "markdown",
      "metadata": {
        "id": "MztG_Ei6x3ul",
        "colab_type": "text"
      },
      "source": [
        "# Creating Model"
      ]
    },
    {
      "cell_type": "markdown",
      "metadata": {
        "id": "CX9WnCmUx58B",
        "colab_type": "text"
      },
      "source": [
        "## Using Bert"
      ]
    },
    {
      "cell_type": "code",
      "metadata": {
        "id": "680fZdfa2qun",
        "colab_type": "code",
        "colab": {
          "base_uri": "https://localhost:8080/",
          "height": 51
        },
        "outputId": "995a0806-5e75-4584-eb31-77b83ca4a540"
      },
      "source": [
        "train_input_ids, train_input_masks, train_segment_ids = create_req_bert_inputs(X_train, bert_tokenizer_instance)\n",
        "test_input_ids, test_input_masks, test_segment_ids = create_req_bert_inputs(X_test, bert_tokenizer_instance)"
      ],
      "execution_count": null,
      "outputs": [
        {
          "output_type": "stream",
          "text": [
            "100%|██████████| 4026/4026 [00:00<00:00, 55464.28it/s]\n",
            "100%|██████████| 1007/1007 [00:00<00:00, 43244.23it/s]\n"
          ],
          "name": "stderr"
        }
      ]
    },
    {
      "cell_type": "code",
      "metadata": {
        "id": "thrzRZ04R5Vt",
        "colab_type": "code",
        "colab": {
          "base_uri": "https://localhost:8080/",
          "height": 136
        },
        "outputId": "1fbf8be4-4d90-4491-b348-c14fa0751892"
      },
      "source": [
        "type(train_input_masks)\n",
        "np.asarray(train_input_masks, dtype=np.int32)"
      ],
      "execution_count": null,
      "outputs": [
        {
          "output_type": "execute_result",
          "data": {
            "text/plain": [
              "array([[1, 1, 1, ..., 0, 0, 0],\n",
              "       [1, 1, 1, ..., 0, 0, 0],\n",
              "       [1, 1, 1, ..., 0, 0, 0],\n",
              "       ...,\n",
              "       [1, 1, 1, ..., 0, 0, 0],\n",
              "       [1, 1, 1, ..., 0, 0, 0],\n",
              "       [1, 1, 1, ..., 0, 0, 0]], dtype=int32)"
            ]
          },
          "metadata": {
            "tags": []
          },
          "execution_count": 42
        }
      ]
    },
    {
      "cell_type": "code",
      "metadata": {
        "id": "fRJQNWXDKWyw",
        "colab_type": "code",
        "colab": {
          "base_uri": "https://localhost:8080/",
          "height": 34
        },
        "outputId": "0994376e-34cc-425e-fe5a-fda62284ef7e"
      },
      "source": [
        "bert_model_preped_input = [np.asarray(train_input_ids, dtype=np.int32), np.asarray(train_input_masks, dtype=np.int32), np.asarray(train_segment_ids, dtype=np.int32)]\n",
        "len(bert_model_preped_input), bert_model_preped_input[0].shape, bert_model_preped_input[0][1].shape"
      ],
      "execution_count": null,
      "outputs": [
        {
          "output_type": "execute_result",
          "data": {
            "text/plain": [
              "(3, (4026, 128), (128,))"
            ]
          },
          "metadata": {
            "tags": []
          },
          "execution_count": 43
        }
      ]
    },
    {
      "cell_type": "code",
      "metadata": {
        "id": "_xNby7WbLSw5",
        "colab_type": "code",
        "colab": {
          "base_uri": "https://localhost:8080/",
          "height": 323
        },
        "outputId": "34b1ec9e-fddf-468e-b6d8-b28fe181cc48"
      },
      "source": [
        "y_train = np.asarray(y_train)\n",
        "type(bert_model_preped_input), type(bert_model_preped_input[0]), type(y_train), bert_model_preped_input[0][0]"
      ],
      "execution_count": null,
      "outputs": [
        {
          "output_type": "execute_result",
          "data": {
            "text/plain": [
              "(list,\n",
              " numpy.ndarray,\n",
              " numpy.ndarray,\n",
              " array([21497,  4187, 12629,  2000,  3071,  2556,     0,     0,     0,\n",
              "            0,     0,     0,     0,     0,     0,     0,     0,     0,\n",
              "            0,     0,     0,     0,     0,     0,     0,     0,     0,\n",
              "            0,     0,     0,     0,     0,     0,     0,     0,     0,\n",
              "            0,     0,     0,     0,     0,     0,     0,     0,     0,\n",
              "            0,     0,     0,     0,     0,     0,     0,     0,     0,\n",
              "            0,     0,     0,     0,     0,     0,     0,     0,     0,\n",
              "            0,     0,     0,     0,     0,     0,     0,     0,     0,\n",
              "            0,     0,     0,     0,     0,     0,     0,     0,     0,\n",
              "            0,     0,     0,     0,     0,     0,     0,     0,     0,\n",
              "            0,     0,     0,     0,     0,     0,     0,     0,     0,\n",
              "            0,     0,     0,     0,     0,     0,     0,     0,     0,\n",
              "            0,     0,     0,     0,     0,     0,     0,     0,     0,\n",
              "            0,     0,     0,     0,     0,     0,     0,     0,     0,\n",
              "            0,     0], dtype=int32))"
            ]
          },
          "metadata": {
            "tags": []
          },
          "execution_count": 44
        }
      ]
    },
    {
      "cell_type": "code",
      "metadata": {
        "id": "iREClz0e25nV",
        "colab_type": "code",
        "colab": {}
      },
      "source": [
        "this_optimizer = tf.keras.optimizers.Adam(\n",
        "    learning_rate=learning_rate, beta_1=0.9, beta_2=0.999, epsilon=1e-07, amsgrad=False,\n",
        "    name='Adam')"
      ],
      "execution_count": null,
      "outputs": []
    },
    {
      "cell_type": "code",
      "metadata": {
        "id": "HpHXcNdNvUvm",
        "colab_type": "code",
        "colab": {}
      },
      "source": [
        "def create_model():\n",
        "  input_word_ids = tf.keras.layers.Input(shape=(max_sequence_length,), dtype=tf.int32,name=\"input_word_ids\")\n",
        "  input_mask = tf.keras.layers.Input(shape=(max_sequence_length,), dtype=tf.int32,name=\"input_mask\")\n",
        "  segment_ids = tf.keras.layers.Input(shape=(max_sequence_length,), dtype=tf.int32,name=\"segment_ids\")\n",
        "  bert_layer = hub.KerasLayer(bert_model_hub_link,trainable=False)\n",
        "  pooled_output, sequence_output = bert_layer([input_word_ids, input_mask, segment_ids])\n",
        "  pooling_lay = tf.keras.layers.GlobalAveragePooling1D()(sequence_output)\n",
        "  dense = tf.keras.layers.Dense(768, activation='relu')(pooling_lay)\n",
        "  pred = tf.keras.layers.Dense(2, activation='softmax')(dense)\n",
        "  model = tf.keras.models.Model(inputs=[input_word_ids, input_mask, segment_ids], outputs=pred)\n",
        "  return model "
      ],
      "execution_count": null,
      "outputs": []
    },
    {
      "cell_type": "code",
      "metadata": {
        "id": "CQHP6X_h4Pnh",
        "colab_type": "code",
        "colab": {}
      },
      "source": [
        "def plot_accuracy_and_loss(file_save_name, history):\n",
        "  plt.plot(history.history['accuracy'])\n",
        "  plt.title('model accuracy')\n",
        "  plt.ylabel('accuracy')\n",
        "  plt.xlabel('epoch')\n",
        "  plt.show()\n",
        "  plt.cla()\n",
        "  plt.plot(history.history['loss'])\n",
        "  plt.title('model loss')\n",
        "  plt.ylabel('loss')\n",
        "  plt.xlabel('epoch')\n",
        "  plt.show()\n",
        "  plt.cla()"
      ],
      "execution_count": null,
      "outputs": []
    },
    {
      "cell_type": "code",
      "metadata": {
        "id": "rGC5twGSdw4D",
        "colab_type": "code",
        "colab": {}
      },
      "source": [
        "def evaluate_model(model):\n",
        "  bert_model_test_input = [np.asarray(test_input_ids, dtype=np.int32), np.asarray(test_input_masks, dtype=np.int32), np.asarray(test_segment_ids, dtype=np.int32)]\n",
        "  predicted_y = model.predict(bert_model_test_input)\n",
        "  number_label_mapping = {0: 'ham', 1:'spam'}\n",
        "  y_test_conv = [number_label_mapping[np.argmax(val)] for val in y_test]\n",
        "  predicted_y_conv = [number_label_mapping[np.argmax(val)] for val in predicted_y]\n",
        "  print('Accuracy:', accuracy_score(y_test_conv, predicted_y_conv))\n",
        "  print('Classification report:', classification_report(y_test_conv, predicted_y_conv))\n",
        "  print('F1 (Micro):', f1_score(y_test_conv, predicted_y_conv, average='micro'))\n",
        "  print('F1 (Macro):', f1_score(y_test_conv, predicted_y_conv, average='macro'))\n",
        "  print('F1 (Weighted):', f1_score(y_test_conv, predicted_y_conv, average='weighted'))\n",
        "  print('Recall (Micro):', recall_score(y_test_conv, predicted_y_conv, average='micro'))\n",
        "  print('Recall (Macro):', recall_score(y_test_conv, predicted_y_conv, average='macro'))\n",
        "  print('Recall (Weighted):', recall_score(y_test_conv, predicted_y_conv, average='weighted'))\n",
        "  print('Precision (Micro):', precision_score(y_test_conv, predicted_y_conv, average='micro'))\n",
        "  print('Precision (Macro):', precision_score(y_test_conv, predicted_y_conv, average='macro'))\n",
        "  print('Precision (Weighted):', precision_score(y_test_conv, predicted_y_conv, average='weighted'))\n",
        "  y_test_for_auc = [np.argmax(val) for val in y_test]\n",
        "  y_predicted_for_auc = [np.argmax(val) for val in predicted_y]\n",
        "  fpr, tpr, thresholds = metrics.roc_curve(y_test_for_auc, y_predicted_for_auc, pos_label=1)\n",
        "  print('AUC:', metrics.auc(fpr, tpr))"
      ],
      "execution_count": null,
      "outputs": []
    },
    {
      "cell_type": "code",
      "metadata": {
        "id": "eqAW2g-ZCbGi",
        "colab_type": "code",
        "colab": {
          "base_uri": "https://localhost:8080/",
          "height": 34
        },
        "outputId": "b93a66f5-78a4-4b36-b05e-529570a73f4f"
      },
      "source": [
        "val_counts_in_train_y = {}\n",
        "for val in y_train:\n",
        "  if not str(val) in val_counts_in_train_y:\n",
        "    val_counts_in_train_y[str(val)] = 0\n",
        "  val_counts_in_train_y[str(val)] += 1\n",
        "val_counts_in_train_y"
      ],
      "execution_count": null,
      "outputs": [
        {
          "output_type": "execute_result",
          "data": {
            "text/plain": [
              "{'[0 1]': 1898, '[1 0]': 2128}"
            ]
          },
          "metadata": {
            "tags": []
          },
          "execution_count": 49
        }
      ]
    },
    {
      "cell_type": "code",
      "metadata": {
        "id": "oPQQaGlFoBda",
        "colab_type": "code",
        "colab": {
          "base_uri": "https://localhost:8080/",
          "height": 34
        },
        "outputId": "09573709-ef88-4cb7-d207-6b46551faeee"
      },
      "source": [
        "val_counts_in_test_y = {}\n",
        "for val in y_test:\n",
        "  if not str(val) in val_counts_in_test_y:\n",
        "    val_counts_in_test_y[str(val)] = 0\n",
        "  val_counts_in_test_y[str(val)] += 1\n",
        "val_counts_in_test_y"
      ],
      "execution_count": null,
      "outputs": [
        {
          "output_type": "execute_result",
          "data": {
            "text/plain": [
              "{'[0, 1]': 447, '[1, 0]': 560}"
            ]
          },
          "metadata": {
            "tags": []
          },
          "execution_count": 50
        }
      ]
    },
    {
      "cell_type": "code",
      "metadata": {
        "id": "mUksObv2zJZ3",
        "colab_type": "code",
        "colab": {
          "base_uri": "https://localhost:8080/",
          "height": 1000
        },
        "outputId": "e0229074-ae82-4192-9dc7-7799a80307e2"
      },
      "source": [
        "for epochs in [10, 20, 100]:\n",
        "  print('Number of epochs:', epochs)\n",
        "  model = create_model()\n",
        "  print(model.summary())\n",
        "  model.compile(loss='binary_crossentropy', optimizer=this_optimizer, metrics=['accuracy'])\n",
        "  history = model.fit(\n",
        "      bert_model_preped_input, \n",
        "      y_train,\n",
        "      epochs=epochs,\n",
        "      batch_size=batch_size\n",
        "  )\n",
        "  print('Done training')\n",
        "  image_save_file_name = 'drive/My Drive/CA5_Sabri_810198312/Results/Q1_bert_model‌_no_preprocess_{}_epochs'.format(epochs)\n",
        "  plot_accuracy_and_loss(image_save_file_name, history)\n",
        "  evaluate_model(model)"
      ],
      "execution_count": null,
      "outputs": [
        {
          "output_type": "stream",
          "text": [
            "Number of epochs: 10\n",
            "Model: \"functional_7\"\n",
            "__________________________________________________________________________________________________\n",
            "Layer (type)                    Output Shape         Param #     Connected to                     \n",
            "==================================================================================================\n",
            "input_word_ids (InputLayer)     [(None, 128)]        0                                            \n",
            "__________________________________________________________________________________________________\n",
            "input_mask (InputLayer)         [(None, 128)]        0                                            \n",
            "__________________________________________________________________________________________________\n",
            "segment_ids (InputLayer)        [(None, 128)]        0                                            \n",
            "__________________________________________________________________________________________________\n",
            "keras_layer_4 (KerasLayer)      [(None, 768), (None, 109482241   input_word_ids[0][0]             \n",
            "                                                                 input_mask[0][0]                 \n",
            "                                                                 segment_ids[0][0]                \n",
            "__________________________________________________________________________________________________\n",
            "global_average_pooling1d_3 (Glo (None, 768)          0           keras_layer_4[0][1]              \n",
            "__________________________________________________________________________________________________\n",
            "dense_6 (Dense)                 (None, 768)          590592      global_average_pooling1d_3[0][0] \n",
            "__________________________________________________________________________________________________\n",
            "dense_7 (Dense)                 (None, 2)            1538        dense_6[0][0]                    \n",
            "==================================================================================================\n",
            "Total params: 110,074,371\n",
            "Trainable params: 592,130\n",
            "Non-trainable params: 109,482,241\n",
            "__________________________________________________________________________________________________\n",
            "None\n",
            "Epoch 1/10\n",
            "126/126 [==============================] - 19s 153ms/step - loss: 0.5774 - accuracy: 0.7144\n",
            "Epoch 2/10\n",
            "126/126 [==============================] - 19s 153ms/step - loss: 0.4706 - accuracy: 0.7819\n",
            "Epoch 3/10\n",
            "126/126 [==============================] - 19s 153ms/step - loss: 0.4267 - accuracy: 0.8120\n",
            "Epoch 4/10\n",
            "126/126 [==============================] - 19s 153ms/step - loss: 0.3775 - accuracy: 0.8390\n",
            "Epoch 5/10\n",
            "126/126 [==============================] - 19s 153ms/step - loss: 0.3304 - accuracy: 0.8661\n",
            "Epoch 6/10\n",
            "126/126 [==============================] - 19s 153ms/step - loss: 0.2877 - accuracy: 0.8920\n",
            "Epoch 7/10\n",
            "126/126 [==============================] - 19s 153ms/step - loss: 0.2518 - accuracy: 0.9066\n",
            "Epoch 8/10\n",
            "126/126 [==============================] - 19s 153ms/step - loss: 0.2118 - accuracy: 0.9391\n",
            "Epoch 9/10\n",
            "126/126 [==============================] - 19s 153ms/step - loss: 0.1797 - accuracy: 0.9493\n",
            "Epoch 10/10\n",
            "126/126 [==============================] - 19s 153ms/step - loss: 0.1534 - accuracy: 0.9630\n",
            "Done training\n"
          ],
          "name": "stdout"
        },
        {
          "output_type": "display_data",
          "data": {
            "image/png": "[encoded data removed]",
            "text/plain": [
              "<Figure size 432x288 with 1 Axes>"
            ]
          },
          "metadata": {
            "tags": [],
            "needs_background": "light"
          }
        },
        {
          "output_type": "display_data",
          "data": {
            "image/png": "[encoded data removed]",
            "text/plain": [
              "<Figure size 432x288 with 1 Axes>"
            ]
          },
          "metadata": {
            "tags": [],
            "needs_background": "light"
          }
        },
        {
          "output_type": "stream",
          "text": [
            "Accuracy: 0.7686196623634558\n",
            "Classification report:               precision    recall  f1-score   support\n",
            "\n",
            "         ham       0.79      0.79      0.79       560\n",
            "        spam       0.74      0.74      0.74       447\n",
            "\n",
            "    accuracy                           0.77      1007\n",
            "   macro avg       0.77      0.77      0.77      1007\n",
            "weighted avg       0.77      0.77      0.77      1007\n",
            "\n",
            "F1 (Micro): 0.7686196623634558\n",
            "F1 (Macro): 0.7655080537241415\n",
            "F1 (Weighted): 0.7685391897262321\n",
            "Recall (Micro): 0.7686196623634558\n",
            "Recall (Macro): 0.7653303771172899\n",
            "Recall (Weighted): 0.7686196623634558\n",
            "Precision (Micro): 0.7686196623634558\n",
            "Precision (Macro): 0.7656997583729377\n",
            "Precision (Weighted): 0.7684724403135137\n",
            "AUC: 0.7653303771172899\n",
            "Number of epochs: 20\n",
            "Model: \"functional_9\"\n",
            "__________________________________________________________________________________________________\n",
            "Layer (type)                    Output Shape         Param #     Connected to                     \n",
            "==================================================================================================\n",
            "input_word_ids (InputLayer)     [(None, 128)]        0                                            \n",
            "__________________________________________________________________________________________________\n",
            "input_mask (InputLayer)         [(None, 128)]        0                                            \n",
            "__________________________________________________________________________________________________\n",
            "segment_ids (InputLayer)        [(None, 128)]        0                                            \n",
            "__________________________________________________________________________________________________\n",
            "keras_layer_5 (KerasLayer)      [(None, 768), (None, 109482241   input_word_ids[0][0]             \n",
            "                                                                 input_mask[0][0]                 \n",
            "                                                                 segment_ids[0][0]                \n",
            "__________________________________________________________________________________________________\n",
            "global_average_pooling1d_4 (Glo (None, 768)          0           keras_layer_5[0][1]              \n",
            "__________________________________________________________________________________________________\n",
            "dense_8 (Dense)                 (None, 768)          590592      global_average_pooling1d_4[0][0] \n",
            "__________________________________________________________________________________________________\n",
            "dense_9 (Dense)                 (None, 2)            1538        dense_8[0][0]                    \n",
            "==================================================================================================\n",
            "Total params: 110,074,371\n",
            "Trainable params: 592,130\n",
            "Non-trainable params: 109,482,241\n",
            "__________________________________________________________________________________________________\n",
            "None\n",
            "Epoch 1/20\n",
            "126/126 [==============================] - 19s 153ms/step - loss: 0.5809 - accuracy: 0.7064\n",
            "Epoch 2/20\n",
            "126/126 [==============================] - 19s 153ms/step - loss: 0.4691 - accuracy: 0.7899\n",
            "Epoch 3/20\n",
            "126/126 [==============================] - 19s 153ms/step - loss: 0.4180 - accuracy: 0.8095\n",
            "Epoch 4/20\n",
            "126/126 [==============================] - 19s 153ms/step - loss: 0.3705 - accuracy: 0.8390\n",
            "Epoch 5/20\n",
            "126/126 [==============================] - 19s 153ms/step - loss: 0.3284 - accuracy: 0.8631\n",
            "Epoch 6/20\n",
            "126/126 [==============================] - 19s 153ms/step - loss: 0.2802 - accuracy: 0.8942\n",
            "Epoch 7/20\n",
            "126/126 [==============================] - 19s 153ms/step - loss: 0.2427 - accuracy: 0.9146\n",
            "Epoch 8/20\n",
            "126/126 [==============================] - 19s 153ms/step - loss: 0.2009 - accuracy: 0.9421\n",
            "Epoch 9/20\n",
            "126/126 [==============================] - 19s 153ms/step - loss: 0.1708 - accuracy: 0.9565\n",
            "Epoch 10/20\n",
            "126/126 [==============================] - 19s 153ms/step - loss: 0.1419 - accuracy: 0.9704\n",
            "Epoch 11/20\n",
            "126/126 [==============================] - 19s 153ms/step - loss: 0.1190 - accuracy: 0.9786\n",
            "Epoch 12/20\n",
            "126/126 [==============================] - 19s 153ms/step - loss: 0.1005 - accuracy: 0.9836\n",
            "Epoch 13/20\n",
            "126/126 [==============================] - 19s 153ms/step - loss: 0.0872 - accuracy: 0.9883\n",
            "Epoch 14/20\n",
            "126/126 [==============================] - 19s 153ms/step - loss: 0.0731 - accuracy: 0.9918\n",
            "Epoch 15/20\n",
            "126/126 [==============================] - 19s 153ms/step - loss: 0.0619 - accuracy: 0.9953\n",
            "Epoch 16/20\n",
            "126/126 [==============================] - 19s 153ms/step - loss: 0.0549 - accuracy: 0.9960\n",
            "Epoch 17/20\n",
            "126/126 [==============================] - 19s 153ms/step - loss: 0.0456 - accuracy: 0.9968\n",
            "Epoch 18/20\n",
            "126/126 [==============================] - 19s 153ms/step - loss: 0.0431 - accuracy: 0.9968\n",
            "Epoch 19/20\n",
            "126/126 [==============================] - 19s 153ms/step - loss: 0.0364 - accuracy: 0.9975\n",
            "Epoch 20/20\n",
            "126/126 [==============================] - 19s 153ms/step - loss: 0.0354 - accuracy: 0.9970\n",
            "Done training\n"
          ],
          "name": "stdout"
        },
        {
          "output_type": "display_data",
          "data": {
            "image/png": "[encoded data removed]",
            "text/plain": [
              "<Figure size 432x288 with 1 Axes>"
            ]
          },
          "metadata": {
            "tags": [],
            "needs_background": "light"
          }
        },
        {
          "output_type": "display_data",
          "data": {
            "image/png": "[encoded data removed]",
            "text/plain": [
              "<Figure size 432x288 with 1 Axes>"
            ]
          },
          "metadata": {
            "tags": [],
            "needs_background": "light"
          }
        },
        {
          "output_type": "stream",
          "text": [
            "Accuracy: 0.7487586891757696\n",
            "Classification report:               precision    recall  f1-score   support\n",
            "\n",
            "         ham       0.76      0.80      0.78       560\n",
            "        spam       0.73      0.69      0.71       447\n",
            "\n",
            "    accuracy                           0.75      1007\n",
            "   macro avg       0.75      0.74      0.74      1007\n",
            "weighted avg       0.75      0.75      0.75      1007\n",
            "\n",
            "F1 (Micro): 0.7487586891757696\n",
            "F1 (Macro): 0.7438068719461732\n",
            "F1 (Weighted): 0.747803695852919\n",
            "Recall (Micro): 0.7487586891757696\n",
            "Recall (Macro): 0.742507590284436\n",
            "Recall (Weighted): 0.7487586891757696\n",
            "Precision (Micro): 0.7487586891757696\n",
            "Precision (Macro): 0.7462257645818122\n",
            "Precision (Weighted): 0.7479396596663463\n",
            "AUC: 0.742507590284436\n",
            "Number of epochs: 100\n",
            "Model: \"functional_11\"\n",
            "__________________________________________________________________________________________________\n",
            "Layer (type)                    Output Shape         Param #     Connected to                     \n",
            "==================================================================================================\n",
            "input_word_ids (InputLayer)     [(None, 128)]        0                                            \n",
            "__________________________________________________________________________________________________\n",
            "input_mask (InputLayer)         [(None, 128)]        0                                            \n",
            "__________________________________________________________________________________________________\n",
            "segment_ids (InputLayer)        [(None, 128)]        0                                            \n",
            "__________________________________________________________________________________________________\n",
            "keras_layer_6 (KerasLayer)      [(None, 768), (None, 109482241   input_word_ids[0][0]             \n",
            "                                                                 input_mask[0][0]                 \n",
            "                                                                 segment_ids[0][0]                \n",
            "__________________________________________________________________________________________________\n",
            "global_average_pooling1d_5 (Glo (None, 768)          0           keras_layer_6[0][1]              \n",
            "__________________________________________________________________________________________________\n",
            "dense_10 (Dense)                (None, 768)          590592      global_average_pooling1d_5[0][0] \n",
            "__________________________________________________________________________________________________\n",
            "dense_11 (Dense)                (None, 2)            1538        dense_10[0][0]                   \n",
            "==================================================================================================\n",
            "Total params: 110,074,371\n",
            "Trainable params: 592,130\n",
            "Non-trainable params: 109,482,241\n",
            "__________________________________________________________________________________________________\n",
            "None\n",
            "Epoch 1/100\n",
            "126/126 [==============================] - 19s 153ms/step - loss: 0.5783 - accuracy: 0.7089\n",
            "Epoch 2/100\n",
            "126/126 [==============================] - 19s 153ms/step - loss: 0.4734 - accuracy: 0.7814\n",
            "Epoch 3/100\n",
            "126/126 [==============================] - 19s 153ms/step - loss: 0.4187 - accuracy: 0.8147\n",
            "Epoch 4/100\n",
            "126/126 [==============================] - 19s 153ms/step - loss: 0.3703 - accuracy: 0.8373\n",
            "Epoch 5/100\n",
            "126/126 [==============================] - 19s 153ms/step - loss: 0.3229 - accuracy: 0.8693\n",
            "Epoch 6/100\n",
            "126/126 [==============================] - 19s 152ms/step - loss: 0.2820 - accuracy: 0.8942\n",
            "Epoch 7/100\n",
            "126/126 [==============================] - 19s 153ms/step - loss: 0.2357 - accuracy: 0.9225\n",
            "Epoch 8/100\n",
            "126/126 [==============================] - 19s 153ms/step - loss: 0.2007 - accuracy: 0.9399\n",
            "Epoch 9/100\n",
            "126/126 [==============================] - 19s 153ms/step - loss: 0.1713 - accuracy: 0.9548\n",
            "Epoch 10/100\n",
            "126/126 [==============================] - 19s 153ms/step - loss: 0.1429 - accuracy: 0.9685\n",
            "Epoch 11/100\n",
            "126/126 [==============================] - 19s 153ms/step - loss: 0.1202 - accuracy: 0.9801\n",
            "Epoch 12/100\n",
            "126/126 [==============================] - 19s 153ms/step - loss: 0.0986 - accuracy: 0.9856\n",
            "Epoch 13/100\n",
            "126/126 [==============================] - 19s 153ms/step - loss: 0.0841 - accuracy: 0.9901\n",
            "Epoch 14/100\n",
            "126/126 [==============================] - 19s 153ms/step - loss: 0.0705 - accuracy: 0.9918\n",
            "Epoch 15/100\n",
            "126/126 [==============================] - 19s 153ms/step - loss: 0.0597 - accuracy: 0.9950\n",
            "Epoch 16/100\n",
            "126/126 [==============================] - 19s 153ms/step - loss: 0.0537 - accuracy: 0.9960\n",
            "Epoch 17/100\n",
            "126/126 [==============================] - 19s 153ms/step - loss: 0.0466 - accuracy: 0.9968\n",
            "Epoch 18/100\n",
            "126/126 [==============================] - 19s 152ms/step - loss: 0.0417 - accuracy: 0.9970\n",
            "Epoch 19/100\n",
            "126/126 [==============================] - 19s 153ms/step - loss: 0.0380 - accuracy: 0.9970\n",
            "Epoch 20/100\n",
            "126/126 [==============================] - 19s 153ms/step - loss: 0.0317 - accuracy: 0.9975\n",
            "Epoch 21/100\n",
            "126/126 [==============================] - 19s 153ms/step - loss: 0.0295 - accuracy: 0.9973\n",
            "Epoch 22/100\n",
            "126/126 [==============================] - 19s 153ms/step - loss: 0.0285 - accuracy: 0.9978\n",
            "Epoch 23/100\n",
            "126/126 [==============================] - 19s 153ms/step - loss: 0.0256 - accuracy: 0.9970\n",
            "Epoch 24/100\n",
            "126/126 [==============================] - 19s 153ms/step - loss: 0.0243 - accuracy: 0.9970\n",
            "Epoch 25/100\n",
            "126/126 [==============================] - 19s 153ms/step - loss: 0.0214 - accuracy: 0.9978\n",
            "Epoch 26/100\n",
            "126/126 [==============================] - 19s 153ms/step - loss: 0.0200 - accuracy: 0.9978\n",
            "Epoch 27/100\n",
            "126/126 [==============================] - 19s 153ms/step - loss: 0.0218 - accuracy: 0.9975\n",
            "Epoch 28/100\n",
            "126/126 [==============================] - 19s 153ms/step - loss: 0.0217 - accuracy: 0.9973\n",
            "Epoch 29/100\n",
            "126/126 [==============================] - 19s 153ms/step - loss: 0.0211 - accuracy: 0.9975\n",
            "Epoch 30/100\n",
            "126/126 [==============================] - 19s 153ms/step - loss: 0.0207 - accuracy: 0.9970\n",
            "Epoch 31/100\n",
            "126/126 [==============================] - 19s 153ms/step - loss: 0.0188 - accuracy: 0.9975\n",
            "Epoch 32/100\n",
            "126/126 [==============================] - 19s 153ms/step - loss: 0.0154 - accuracy: 0.9978\n",
            "Epoch 33/100\n",
            "126/126 [==============================] - 19s 153ms/step - loss: 0.0180 - accuracy: 0.9973\n",
            "Epoch 34/100\n",
            "126/126 [==============================] - 19s 153ms/step - loss: 0.0171 - accuracy: 0.9975\n",
            "Epoch 35/100\n",
            "126/126 [==============================] - 19s 153ms/step - loss: 0.0178 - accuracy: 0.9975\n",
            "Epoch 36/100\n",
            "126/126 [==============================] - 19s 153ms/step - loss: 0.0195 - accuracy: 0.9970\n",
            "Epoch 37/100\n",
            "126/126 [==============================] - 19s 152ms/step - loss: 0.0157 - accuracy: 0.9975\n",
            "Epoch 38/100\n",
            "126/126 [==============================] - 19s 153ms/step - loss: 0.0162 - accuracy: 0.9978\n",
            "Epoch 39/100\n",
            "126/126 [==============================] - 19s 153ms/step - loss: 0.0156 - accuracy: 0.9978\n",
            "Epoch 40/100\n",
            "126/126 [==============================] - 19s 153ms/step - loss: 0.0183 - accuracy: 0.9973\n",
            "Epoch 41/100\n",
            "126/126 [==============================] - 19s 152ms/step - loss: 0.0159 - accuracy: 0.9975\n",
            "Epoch 42/100\n",
            "126/126 [==============================] - 19s 153ms/step - loss: 0.0167 - accuracy: 0.9975\n",
            "Epoch 43/100\n",
            "126/126 [==============================] - 19s 153ms/step - loss: 0.0149 - accuracy: 0.9978\n",
            "Epoch 44/100\n",
            "126/126 [==============================] - 19s 153ms/step - loss: 0.0174 - accuracy: 0.9973\n",
            "Epoch 45/100\n",
            "126/126 [==============================] - 19s 153ms/step - loss: 0.0173 - accuracy: 0.9973\n",
            "Epoch 46/100\n",
            "126/126 [==============================] - 19s 153ms/step - loss: 0.0165 - accuracy: 0.9973\n",
            "Epoch 47/100\n",
            "126/126 [==============================] - 19s 152ms/step - loss: 0.0183 - accuracy: 0.9973\n",
            "Epoch 48/100\n",
            "126/126 [==============================] - 19s 153ms/step - loss: 0.0131 - accuracy: 0.9980\n",
            "Epoch 49/100\n",
            "126/126 [==============================] - 19s 153ms/step - loss: 0.0136 - accuracy: 0.9980\n",
            "Epoch 50/100\n",
            "126/126 [==============================] - 19s 153ms/step - loss: 0.0145 - accuracy: 0.9978\n",
            "Epoch 51/100\n",
            "126/126 [==============================] - 19s 152ms/step - loss: 0.0133 - accuracy: 0.9980\n",
            "Epoch 52/100\n",
            "126/126 [==============================] - 19s 153ms/step - loss: 0.0171 - accuracy: 0.9975\n",
            "Epoch 53/100\n",
            "126/126 [==============================] - 19s 153ms/step - loss: 0.0136 - accuracy: 0.9980\n",
            "Epoch 54/100\n",
            "126/126 [==============================] - 19s 153ms/step - loss: 0.0143 - accuracy: 0.9978\n",
            "Epoch 55/100\n",
            "126/126 [==============================] - 19s 153ms/step - loss: 0.0149 - accuracy: 0.9975\n",
            "Epoch 56/100\n",
            "126/126 [==============================] - 19s 152ms/step - loss: 0.0171 - accuracy: 0.9975\n",
            "Epoch 57/100\n",
            "126/126 [==============================] - 19s 153ms/step - loss: 0.0190 - accuracy: 0.9973\n",
            "Epoch 58/100\n",
            "126/126 [==============================] - 19s 152ms/step - loss: 0.0138 - accuracy: 0.9978\n",
            "Epoch 59/100\n",
            "126/126 [==============================] - 19s 153ms/step - loss: 0.0177 - accuracy: 0.9973\n",
            "Epoch 60/100\n",
            "126/126 [==============================] - 19s 153ms/step - loss: 0.0165 - accuracy: 0.9973\n",
            "Epoch 61/100\n",
            "126/126 [==============================] - 19s 153ms/step - loss: 0.0176 - accuracy: 0.9978\n",
            "Epoch 62/100\n",
            "126/126 [==============================] - 19s 153ms/step - loss: 0.0170 - accuracy: 0.9975\n",
            "Epoch 63/100\n",
            "126/126 [==============================] - 19s 153ms/step - loss: 0.0181 - accuracy: 0.9973\n",
            "Epoch 64/100\n",
            "126/126 [==============================] - 19s 153ms/step - loss: 0.0181 - accuracy: 0.9970\n",
            "Epoch 65/100\n",
            "126/126 [==============================] - 19s 153ms/step - loss: 0.0152 - accuracy: 0.9978\n",
            "Epoch 66/100\n",
            "126/126 [==============================] - 19s 153ms/step - loss: 0.0149 - accuracy: 0.9975\n",
            "Epoch 67/100\n",
            "126/126 [==============================] - 19s 153ms/step - loss: 0.0158 - accuracy: 0.9973\n",
            "Epoch 68/100\n",
            "126/126 [==============================] - 19s 153ms/step - loss: 0.0162 - accuracy: 0.9975\n",
            "Epoch 69/100\n",
            "126/126 [==============================] - 19s 153ms/step - loss: 0.0156 - accuracy: 0.9978\n",
            "Epoch 70/100\n",
            "126/126 [==============================] - 19s 153ms/step - loss: 0.0168 - accuracy: 0.9973\n",
            "Epoch 71/100\n",
            "126/126 [==============================] - 19s 153ms/step - loss: 0.0121 - accuracy: 0.9980\n",
            "Epoch 72/100\n",
            "126/126 [==============================] - 19s 153ms/step - loss: 0.0142 - accuracy: 0.9980\n",
            "Epoch 73/100\n",
            "126/126 [==============================] - 19s 153ms/step - loss: 0.0172 - accuracy: 0.9975\n",
            "Epoch 74/100\n",
            "126/126 [==============================] - 19s 152ms/step - loss: 0.0139 - accuracy: 0.9978\n",
            "Epoch 75/100\n",
            "126/126 [==============================] - 19s 152ms/step - loss: 0.0141 - accuracy: 0.9973\n",
            "Epoch 76/100\n",
            "126/126 [==============================] - 19s 152ms/step - loss: 0.0140 - accuracy: 0.9978\n",
            "Epoch 77/100\n",
            "126/126 [==============================] - 19s 152ms/step - loss: 0.0127 - accuracy: 0.9978\n",
            "Epoch 78/100\n",
            "126/126 [==============================] - 19s 152ms/step - loss: 0.0170 - accuracy: 0.9975\n",
            "Epoch 79/100\n",
            "126/126 [==============================] - 19s 152ms/step - loss: 0.0172 - accuracy: 0.9975\n",
            "Epoch 80/100\n",
            "126/126 [==============================] - 19s 153ms/step - loss: 0.0143 - accuracy: 0.9978\n",
            "Epoch 81/100\n",
            "126/126 [==============================] - 19s 153ms/step - loss: 0.0175 - accuracy: 0.9973\n",
            "Epoch 82/100\n",
            "126/126 [==============================] - 19s 153ms/step - loss: 0.0164 - accuracy: 0.9973\n",
            "Epoch 83/100\n",
            "126/126 [==============================] - 19s 153ms/step - loss: 0.0146 - accuracy: 0.9978\n",
            "Epoch 84/100\n",
            "126/126 [==============================] - 19s 152ms/step - loss: 0.0151 - accuracy: 0.9978\n",
            "Epoch 85/100\n",
            "126/126 [==============================] - 19s 152ms/step - loss: 0.0136 - accuracy: 0.9978\n",
            "Epoch 86/100\n",
            "126/126 [==============================] - 19s 152ms/step - loss: 0.0123 - accuracy: 0.9980\n",
            "Epoch 87/100\n",
            "126/126 [==============================] - 19s 153ms/step - loss: 0.0168 - accuracy: 0.9975\n",
            "Epoch 88/100\n",
            "126/126 [==============================] - 19s 153ms/step - loss: 0.0179 - accuracy: 0.9973\n",
            "Epoch 89/100\n",
            "126/126 [==============================] - 19s 152ms/step - loss: 0.0126 - accuracy: 0.9980\n",
            "Epoch 90/100\n",
            "126/126 [==============================] - 19s 152ms/step - loss: 0.0142 - accuracy: 0.9980\n",
            "Epoch 91/100\n",
            "126/126 [==============================] - 19s 153ms/step - loss: 0.0148 - accuracy: 0.9978\n",
            "Epoch 92/100\n",
            "126/126 [==============================] - 19s 153ms/step - loss: 0.0168 - accuracy: 0.9973\n",
            "Epoch 93/100\n",
            "126/126 [==============================] - 19s 153ms/step - loss: 0.0158 - accuracy: 0.9975\n",
            "Epoch 94/100\n",
            "126/126 [==============================] - 19s 152ms/step - loss: 0.0137 - accuracy: 0.9980\n",
            "Epoch 95/100\n",
            "126/126 [==============================] - 19s 152ms/step - loss: 0.0179 - accuracy: 0.9970\n",
            "Epoch 96/100\n",
            "126/126 [==============================] - 19s 152ms/step - loss: 0.0149 - accuracy: 0.9973\n",
            "Epoch 97/100\n",
            "126/126 [==============================] - 19s 153ms/step - loss: 0.0123 - accuracy: 0.9975\n",
            "Epoch 98/100\n",
            "126/126 [==============================] - 19s 152ms/step - loss: 0.0145 - accuracy: 0.9975\n",
            "Epoch 99/100\n",
            "126/126 [==============================] - 19s 152ms/step - loss: 0.0166 - accuracy: 0.9973\n",
            "Epoch 100/100\n",
            "126/126 [==============================] - 19s 152ms/step - loss: 0.0144 - accuracy: 0.9980\n",
            "Done training\n"
          ],
          "name": "stdout"
        },
        {
          "output_type": "display_data",
          "data": {
            "image/png": "[encoded data removed]",
            "text/plain": [
              "<Figure size 432x288 with 1 Axes>"
            ]
          },
          "metadata": {
            "tags": [],
            "needs_background": "light"
          }
        },
        {
          "output_type": "display_data",
          "data": {
            "image/png": "[encoded data removed]",
            "text/plain": [
              "<Figure size 432x288 with 1 Axes>"
            ]
          },
          "metadata": {
            "tags": [],
            "needs_background": "light"
          }
        },
        {
          "output_type": "stream",
          "text": [
            "Accuracy: 0.7477656405163853\n",
            "Classification report:               precision    recall  f1-score   support\n",
            "\n",
            "         ham       0.78      0.76      0.77       560\n",
            "        spam       0.71      0.74      0.72       447\n",
            "\n",
            "    accuracy                           0.75      1007\n",
            "   macro avg       0.74      0.75      0.75      1007\n",
            "weighted avg       0.75      0.75      0.75      1007\n",
            "\n",
            "F1 (Micro): 0.7477656405163853\n",
            "F1 (Macro): 0.7455957827730257\n",
            "F1 (Weighted): 0.7482322765902262\n",
            "Recall (Micro): 0.7477656405163853\n",
            "Recall (Macro): 0.7468060882070949\n",
            "Recall (Weighted): 0.7477656405163853\n",
            "Precision (Micro): 0.7477656405163853\n",
            "Precision (Macro): 0.7449857244825124\n",
            "Precision (Weighted): 0.7492888821787814\n",
            "AUC: 0.7468060882070949\n"
          ],
          "name": "stdout"
        },
        {
          "output_type": "display_data",
          "data": {
            "image/png": "[encoded data removed]",
            "text/plain": [
              "<Figure size 432x288 with 1 Axes>"
            ]
          },
          "metadata": {
            "tags": [],
            "needs_background": "light"
          }
        }
      ]
    },
    {
      "cell_type": "code",
      "metadata": {
        "id": "Rpcei2cLyV5n",
        "colab_type": "code",
        "colab": {
          "base_uri": "https://localhost:8080/",
          "height": 374
        },
        "outputId": "cb35eaf3-f5e1-4615-a468-482ea190185f"
      },
      "source": [
        "train_input_ids, train_input_masks, train_segment_ids = create_req_bert_inputs(all_X_cleaned_using_bert, bert_tokenizer_instance)\n",
        "bert_model_preped_input = [np.asarray(train_input_ids, dtype=np.int32), np.asarray(train_input_masks, dtype=np.int32), np.asarray(train_segment_ids, dtype=np.int32)]\n",
        "all_Y = np.asarray(all_Y)\n",
        "model = create_model()\n",
        "model.compile(loss='binary_crossentropy', optimizer=this_optimizer, metrics=['accuracy'])\n",
        "history = model.fit(\n",
        "    bert_model_preped_input, \n",
        "    all_Y,\n",
        "    epochs=10, \n",
        "    batch_size = 32\n",
        ")"
      ],
      "execution_count": null,
      "outputs": [
        {
          "output_type": "stream",
          "text": [
            "100%|██████████| 5033/5033 [00:00<00:00, 58747.55it/s]\n"
          ],
          "name": "stderr"
        },
        {
          "output_type": "stream",
          "text": [
            "Epoch 1/10\n",
            "158/158 [==============================] - 24s 153ms/step - loss: 0.7019 - accuracy: 0.5037\n",
            "Epoch 2/10\n",
            "158/158 [==============================] - 24s 152ms/step - loss: 0.6944 - accuracy: 0.5053\n",
            "Epoch 3/10\n",
            "158/158 [==============================] - 24s 153ms/step - loss: 0.6936 - accuracy: 0.5053\n",
            "Epoch 4/10\n",
            "158/158 [==============================] - 24s 152ms/step - loss: 0.6934 - accuracy: 0.5098\n",
            "Epoch 5/10\n",
            "158/158 [==============================] - 24s 153ms/step - loss: 0.6933 - accuracy: 0.4965\n",
            "Epoch 6/10\n",
            "158/158 [==============================] - 24s 153ms/step - loss: 0.6933 - accuracy: 0.4991\n",
            "Epoch 7/10\n",
            "158/158 [==============================] - 24s 153ms/step - loss: 0.6933 - accuracy: 0.5067\n",
            "Epoch 8/10\n",
            "158/158 [==============================] - 24s 153ms/step - loss: 0.6932 - accuracy: 0.5035\n",
            "Epoch 9/10\n",
            "158/158 [==============================] - 24s 153ms/step - loss: 0.6932 - accuracy: 0.4957\n",
            "Epoch 10/10\n",
            "158/158 [==============================] - 24s 153ms/step - loss: 0.6932 - accuracy: 0.4924\n"
          ],
          "name": "stdout"
        }
      ]
    },
    {
      "cell_type": "code",
      "metadata": {
        "id": "2Osr0LYh-cBf",
        "colab_type": "code",
        "colab": {
          "base_uri": "https://localhost:8080/",
          "height": 34
        },
        "outputId": "bfd65a4b-c26b-44aa-f424-bf336d6bbb05"
      },
      "source": [
        "covid_texts = []\n",
        "df1 = pd.read_csv('drive/My Drive/Metaphor Detection/Data-Texts/corona_tweets_01.csv', header=None)\n",
        "df2 = pd.read_csv('drive/My Drive/Metaphor Detection/Data-Texts/corona_tweets_32.csv', header=None)\n",
        "\n",
        "covid_texts = df1[1].values.tolist()+df2[1].values.tolist()\n",
        "covid_ids = df1[0].values.tolist()+df2[0].values.tolist()\n",
        "\n",
        "test_input_ids, test_input_masks, test_segment_ids = create_req_bert_inputs(clean_text(covid_texts, bert_tokenizer_instance), bert_tokenizer_instance)\n",
        "bert_model_test_input = [np.asarray(test_input_ids, dtype=np.int32), np.asarray(test_input_masks, dtype=np.int32), np.asarray(test_segment_ids, dtype=np.int32)]\n",
        "predicted_y = model.predict(bert_model_test_input)\n",
        "predicted_y_conv = [np.argmax(val) for val in predicted_y]"
      ],
      "execution_count": null,
      "outputs": [
        {
          "output_type": "stream",
          "text": [
            "100%|██████████| 9561/9561 [00:00<00:00, 64246.67it/s]\n"
          ],
          "name": "stderr"
        }
      ]
    },
    {
      "cell_type": "code",
      "metadata": {
        "id": "pr6Hj09j2PVg",
        "colab_type": "code",
        "colab": {
          "base_uri": "https://localhost:8080/",
          "height": 34
        },
        "outputId": "dd36151a-ce02-4b5f-ce21-c24c05ca2d79"
      },
      "source": [
        "lable_counts = {0:0, 1:0}\n",
        "for item in predicted_y_conv:\n",
        "  lable_counts[item]+=1\n",
        "lable_counts"
      ],
      "execution_count": null,
      "outputs": [
        {
          "output_type": "execute_result",
          "data": {
            "text/plain": [
              "{0: 3647, 1: 5914}"
            ]
          },
          "metadata": {
            "tags": []
          },
          "execution_count": 66
        }
      ]
    },
    {
      "cell_type": "code",
      "metadata": {
        "id": "5MCzByMj23D1",
        "colab_type": "code",
        "colab": {
          "base_uri": "https://localhost:8080/",
          "height": 34
        },
        "outputId": "3d28e258-2df2-4f3c-aa99-539bfff296d3"
      },
      "source": [
        "5914/9661"
      ],
      "execution_count": null,
      "outputs": [
        {
          "output_type": "execute_result",
          "data": {
            "text/plain": [
              "0.612151951143774"
            ]
          },
          "metadata": {
            "tags": []
          },
          "execution_count": 67
        }
      ]
    },
    {
      "cell_type": "code",
      "metadata": {
        "id": "vUv71F9W3YMl",
        "colab_type": "code",
        "colab": {
          "base_uri": "https://localhost:8080/",
          "height": 51
        },
        "outputId": "ed04c879-5694-42e8-cbe4-87bbc9745dd2"
      },
      "source": [
        "metaphor_sentiment_mapping = {'pos':{0:0, 1:0}, 'neg':{0:0, 1:0}}\n",
        "df11 = pd.read_csv('drive/My Drive/Metaphor Detection/corona_tweets_01.csv', header=None)\n",
        "df11 = df11[df11[0].isin(covid_ids)]\n",
        "df21 = pd.read_csv('drive/My Drive/Metaphor Detection/corona_tweets_32.csv', header=None)\n",
        "df21 = df21[df21[0].isin(covid_ids)]\n",
        "print(df11.shape, df21.shape)\n",
        "for _, row in df11.iterrows():\n",
        "  if row[0] in covid_ids:\n",
        "    ind = covid_ids.index(row[0])\n",
        "    if row[1]<0:\n",
        "      metaphor_sentiment_mapping['neg'][predicted_y_conv[ind]] += 1\n",
        "    else:\n",
        "      metaphor_sentiment_mapping['pos'][predicted_y_conv[ind]] += 1\n",
        "for _, row in df21.iterrows():\n",
        "  if row[0] in covid_ids:\n",
        "    ind = covid_ids.index(row[0])\n",
        "    if row[1]<0:\n",
        "      metaphor_sentiment_mapping['neg'][predicted_y_conv[ind]] += 1\n",
        "    else:\n",
        "      metaphor_sentiment_mapping['pos'][predicted_y_conv[ind]] += 1\n",
        "metaphor_sentiment_mapping"
      ],
      "execution_count": null,
      "outputs": [
        {
          "output_type": "stream",
          "text": [
            "(4804, 2) (4757, 2)\n"
          ],
          "name": "stdout"
        },
        {
          "output_type": "execute_result",
          "data": {
            "text/plain": [
              "{'neg': {0: 865, 1: 1394}, 'pos': {0: 2783, 1: 4519}}"
            ]
          },
          "metadata": {
            "tags": []
          },
          "execution_count": 76
        }
      ]
    },
    {
      "cell_type": "code",
      "metadata": {
        "id": "upGjKZUu799h",
        "colab_type": "code",
        "colab": {}
      },
      "source": [
        ""
      ],
      "execution_count": null,
      "outputs": []
    }
  ]
}